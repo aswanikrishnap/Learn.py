{
  "nbformat": 4,
  "nbformat_minor": 0,
  "metadata": {
    "colab": {
      "name": "TASK 10.ipynb",
      "provenance": [],
      "include_colab_link": true
    },
    "kernelspec": {
      "name": "python3",
      "display_name": "Python 3"
    },
    "language_info": {
      "name": "python"
    }
  },
  "cells": [
    {
      "cell_type": "markdown",
      "metadata": {
        "id": "view-in-github",
        "colab_type": "text"
      },
      "source": [
        "<a href=\"https://colab.research.google.com/github/aswanikrishnap/Learn.py/blob/main/TASK_10.ipynb\" target=\"_parent\"><img src=\"https://colab.research.google.com/assets/colab-badge.svg\" alt=\"Open In Colab\"/></a>"
      ]
    },
    {
      "cell_type": "markdown",
      "metadata": {
        "id": "VHKxwUewxOi2"
      },
      "source": [
        "1. Generate two  3 x 3 matrix and find it's dot product and take the transpose of the answer."
      ]
    },
    {
      "cell_type": "code",
      "metadata": {
        "id": "RdyKd1CAxZtR",
        "outputId": "ba131aa1-2982-4079-a1b7-216828fd3da6",
        "colab": {
          "base_uri": "https://localhost:8080/"
        }
      },
      "source": [
        "#please provide your answer below this line.\n",
        "import numpy as np\n",
        "matrix1 = np.random.randint(0,10,(3,3))\n",
        "matrix2 = np.random.randint(0,10,(3,3)) \n",
        "print(matrix1)\n",
        "print(matrix2)\n",
        "dot = np.dot(matrix1,matrix2)\n",
        "print(dot)"
      ],
      "execution_count": 1,
      "outputs": [
        {
          "output_type": "stream",
          "text": [
            "[[5 4 3]\n",
            " [2 6 3]\n",
            " [0 8 2]]\n",
            "[[9 5 7]\n",
            " [5 1 2]\n",
            " [1 1 7]]\n",
            "[[68 32 64]\n",
            " [51 19 47]\n",
            " [42 10 30]]\n"
          ],
          "name": "stdout"
        }
      ]
    },
    {
      "cell_type": "markdown",
      "metadata": {
        "id": "9c9ZwiBxxf4t"
      },
      "source": [
        "2. Create a 3x3 matrix with elements [55,25,15], [30,44,2], [11,45,77] . Now find the determinant of the given matrix."
      ]
    },
    {
      "cell_type": "code",
      "metadata": {
        "id": "Anmr3C9KyNyy",
        "outputId": "cc74e78f-6f9e-470c-8a21-300fd16a218c",
        "colab": {
          "base_uri": "https://localhost:8080/"
        }
      },
      "source": [
        "#please provide your answer below this line.\n",
        "import numpy as np\n",
        "matrix = [[55,25,15],[30,44,2],[11,45,77]]\n",
        "print(matrix)\n",
        "det = np.linalg.det(matrix)\n",
        "print(det)"
      ],
      "execution_count": 2,
      "outputs": [
        {
          "output_type": "stream",
          "text": [
            "[[55, 25, 15], [30, 44, 2], [11, 45, 77]]\n",
            "137180.0000000001\n"
          ],
          "name": "stdout"
        }
      ]
    }
  ]
}