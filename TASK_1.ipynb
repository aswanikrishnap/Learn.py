{
  "nbformat": 4,
  "nbformat_minor": 0,
  "metadata": {
    "colab": {
      "name": "TASK 1",
      "provenance": [],
      "include_colab_link": true
    },
    "kernelspec": {
      "name": "python3",
      "display_name": "Python 3"
    },
    "language_info": {
      "name": "python"
    }
  },
  "cells": [
    {
      "cell_type": "markdown",
      "metadata": {
        "id": "view-in-github",
        "colab_type": "text"
      },
      "source": [
        "<a href=\"https://colab.research.google.com/github/aswanikrishnap/Learn.py/blob/main/TASK_1.ipynb\" target=\"_parent\"><img src=\"https://colab.research.google.com/assets/colab-badge.svg\" alt=\"Open In Colab\"/></a>"
      ]
    },
    {
      "cell_type": "markdown",
      "metadata": {
        "id": "q-yWxfWESiQo"
      },
      "source": [
        "1.Write a program that uses input to prompt a user for their name and then welcomes them."
      ]
    },
    {
      "cell_type": "code",
      "metadata": {
        "id": "9ikpRxqMSxu0",
        "outputId": "3b50142a-088b-4958-9f15-e3409ef9b520",
        "colab": {
          "base_uri": "https://localhost:8080/"
        }
      },
      "source": [
        " \n",
        "name=input(\"enter the name:\")\n",
        "print(\"welcome\",name)"
      ],
      "execution_count": 67,
      "outputs": [
        {
          "output_type": "stream",
          "text": [
            "enter the name:Aswani\n",
            "welcome Aswani\n"
          ],
          "name": "stdout"
        }
      ]
    },
    {
      "cell_type": "markdown",
      "metadata": {
        "id": "Ay5OdxguS-2Z"
      },
      "source": [
        "2.Write a program which prompts the user for a Celsius temperature, convert the temperature to Fahrenheit, and print out the converted temperature."
      ]
    },
    {
      "cell_type": "code",
      "metadata": {
        "id": "MMv2yWNtTgEu",
        "outputId": "b0149be7-0a8c-4a77-f351-467758048d35",
        "colab": {
          "base_uri": "https://localhost:8080/"
        }
      },
      "source": [
        " \n",
        " \n",
        "Celsius= int(input('Enter temperature in celsius: '))\n",
        "f=(1.8 * celsius)+ 32\n",
        "print('temperature in fahrenheit', f)"
      ],
      "execution_count": 66,
      "outputs": [
        {
          "output_type": "stream",
          "text": [
            "Enter temperature in celsius: 32\n",
            "temperature in fahrenheit 89.6\n"
          ],
          "name": "stdout"
        }
      ]
    },
    {
      "cell_type": "markdown",
      "metadata": {
        "id": "v6O1a198TpNd"
      },
      "source": [
        "3.Write a Python program to convert degree to radian."
      ]
    },
    {
      "cell_type": "code",
      "metadata": {
        "id": "27Jj4_D0UQBA",
        "outputId": "5f7113fc-9397-4bdc-e183-300904e76500",
        "colab": {
          "base_uri": "https://localhost:8080/"
        }
      },
      "source": [
        "#please provide your answer here below this line\n",
        " \n",
        "degree=float(input(\"enter the degree:\"))\n",
        "radian=degree*3.14/180\n",
        "print(\"radian:\",(radian))"
      ],
      "execution_count": 65,
      "outputs": [
        {
          "output_type": "stream",
          "text": [
            "enter the degree:45\n",
            "radian: 0.785\n"
          ],
          "name": "stdout"
        }
      ]
    }
  ]
}