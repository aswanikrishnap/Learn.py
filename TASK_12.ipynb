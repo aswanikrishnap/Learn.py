{
  "nbformat": 4,
  "nbformat_minor": 0,
  "metadata": {
    "colab": {
      "name": "TASK 12.ipynb",
      "provenance": [],
      "include_colab_link": true
    },
    "kernelspec": {
      "name": "python3",
      "display_name": "Python 3"
    },
    "language_info": {
      "name": "python"
    }
  },
  "cells": [
    {
      "cell_type": "markdown",
      "metadata": {
        "id": "view-in-github",
        "colab_type": "text"
      },
      "source": [
        "<a href=\"https://colab.research.google.com/github/aswanikrishnap/Learn.py/blob/main/TASK_12.ipynb\" target=\"_parent\"><img src=\"https://colab.research.google.com/assets/colab-badge.svg\" alt=\"Open In Colab\"/></a>"
      ]
    },
    {
      "cell_type": "markdown",
      "metadata": {
        "id": "i9LeFsII-SAQ"
      },
      "source": [
        "1. Create an 4x4 array with elements ranging from 0-15. And find the trace of the array."
      ]
    },
    {
      "cell_type": "code",
      "metadata": {
        "id": "eT1ymGjZ-pOZ",
        "outputId": "da3cfb4a-1cf2-4b1c-9c1c-051b4299deae",
        "colab": {
          "base_uri": "https://localhost:8080/"
        }
      },
      "source": [
        "#please type your answer below this line.\n",
        "import numpy as np \n",
        "mat = np.random.randint(0,15,(4,4))\n",
        "print(\"Array\\n\",mat) \n",
        "print(\"Trace of the Array is: \\n\",mat.trace())"
      ],
      "execution_count": 2,
      "outputs": [
        {
          "output_type": "stream",
          "text": [
            "Array\n",
            " [[14  1  2  4]\n",
            " [ 4 11  5  5]\n",
            " [ 2 10 13  3]\n",
            " [10 12 11  2]]\n",
            "Trace of the Array is: \n",
            " 40\n"
          ],
          "name": "stdout"
        }
      ]
    },
    {
      "cell_type": "markdown",
      "metadata": {
        "id": "Hw69FYds-zww"
      },
      "source": [
        "2. Create a matrix with elements [6,1,1],[4,-2,5],[2,8,7].Now find the inverse this matrix."
      ]
    },
    {
      "cell_type": "code",
      "metadata": {
        "id": "IAhA-qIwAoxs",
        "outputId": "f626591c-2b24-4b75-d872-cc9c12881d24",
        "colab": {
          "base_uri": "https://localhost:8080/"
        }
      },
      "source": [
        "#please type your answer below this line.\n",
        "import numpy as np\n",
        "mat = np.array([[6,1,1],[4,-2,5],[2,8,7]])\n",
        "print(\"Matix\\n\",mat)\n",
        "print(\"\\nThe Inverse of Matrix is :\\n\",np.linalg.inv(mat))"
      ],
      "execution_count": 1,
      "outputs": [
        {
          "output_type": "stream",
          "text": [
            "Matix\n",
            " [[ 6  1  1]\n",
            " [ 4 -2  5]\n",
            " [ 2  8  7]]\n",
            "\n",
            "The Inverse of Matrix is :\n",
            " [[ 0.17647059 -0.00326797 -0.02287582]\n",
            " [ 0.05882353 -0.13071895  0.08496732]\n",
            " [-0.11764706  0.1503268   0.05228758]]\n"
          ],
          "name": "stdout"
        }
      ]
    },
    {
      "cell_type": "markdown",
      "metadata": {
        "id": "6B6aJDFKAz0B"
      },
      "source": [
        "3. Create an 3x3 array with elements ranging from 0-8. And find the norm this array."
      ]
    },
    {
      "cell_type": "code",
      "metadata": {
        "id": "49RVb-g3CXSk",
        "outputId": "31399d75-fa12-46cd-a448-57ceb4b51cae",
        "colab": {
          "base_uri": "https://localhost:8080/"
        }
      },
      "source": [
        "#please type your answer below this line.\n",
        "import numpy as np \n",
        "mat = np.random.randint(0,8,(3,3))\n",
        "print(\"Array\\n\",mat)\n",
        "print(\"\\nThe Norm of the Matrix is\\n\",np.linalg.norm(mat))"
      ],
      "execution_count": 3,
      "outputs": [
        {
          "output_type": "stream",
          "text": [
            "Array\n",
            " [[0 3 7]\n",
            " [0 5 0]\n",
            " [3 0 5]]\n",
            "\n",
            "The Norm of the Matrix is\n",
            " 10.816653826391969\n"
          ],
          "name": "stdout"
        }
      ]
    },
    {
      "cell_type": "markdown",
      "metadata": {
        "id": "pGKEu4lxDCJK"
      },
      "source": [
        "4. Create a 4x4 array whose value ranging from 0-15.And find the eigenvalues and eigenvectors of this array."
      ]
    },
    {
      "cell_type": "code",
      "metadata": {
        "id": "dyymkid0DTth",
        "outputId": "893abd5d-9ab9-412c-c782-78aa3e82d161",
        "colab": {
          "base_uri": "https://localhost:8080/"
        }
      },
      "source": [
        "#please type your answer below this line.\n",
        "import numpy as np \n",
        "mat = np.random.randint(0,15,(4,4))\n",
        "print(\"Array\\n\",mat)\n",
        "print(\"\\nThe EigenValue and EigenVectors of the Matrix is\\n\",np.linalg.eig(mat))"
      ],
      "execution_count": 4,
      "outputs": [
        {
          "output_type": "stream",
          "text": [
            "Array\n",
            " [[11 10  4 14]\n",
            " [10  2  2 12]\n",
            " [ 2 13 13  9]\n",
            " [13 13 14 12]]\n",
            "\n",
            "The EigenValue and EigenVectors of the Matrix is\n",
            " (array([39.309745  +0.j        ,  7.60411213+0.j        ,\n",
            "       -4.45692856+2.09845149j, -4.45692856-2.09845149j]), array([[ 0.50937055+0.j        ,  0.52988594+0.j        ,\n",
            "        -0.07925377-0.36508913j, -0.07925377+0.36508913j],\n",
            "       [ 0.36672356+0.j        ,  0.34164117+0.j        ,\n",
            "         0.65681044+0.j        ,  0.65681044-0.j        ],\n",
            "       [ 0.43968904+0.j        , -0.76052216+0.j        ,\n",
            "        -0.33226935-0.23431545j, -0.33226935+0.23431545j],\n",
            "       [ 0.6424399 +0.j        , -0.1552683 +0.j        ,\n",
            "        -0.23199181+0.45815059j, -0.23199181-0.45815059j]]))\n"
          ],
          "name": "stdout"
        }
      ]
    }
  ]
}