{
  "nbformat": 4,
  "nbformat_minor": 0,
  "metadata": {
    "colab": {
      "name": "TASK 13.ipynb",
      "provenance": [],
      "include_colab_link": true
    },
    "kernelspec": {
      "name": "python3",
      "display_name": "Python 3"
    },
    "language_info": {
      "name": "python"
    }
  },
  "cells": [
    {
      "cell_type": "markdown",
      "metadata": {
        "id": "view-in-github",
        "colab_type": "text"
      },
      "source": [
        "<a href=\"https://colab.research.google.com/github/aswanikrishnap/Learn.py/blob/main/TASK_13.ipynb\" target=\"_parent\"><img src=\"https://colab.research.google.com/assets/colab-badge.svg\" alt=\"Open In Colab\"/></a>"
      ]
    },
    {
      "cell_type": "markdown",
      "metadata": {
        "id": "RUSoRkrOqNwf"
      },
      "source": [
        "1. Create a 3x3 array values ranging from 0-8.Find the sum of the elements in this array."
      ]
    },
    {
      "cell_type": "code",
      "metadata": {
        "id": "t01ATYQpqq8u",
        "outputId": "feb56920-b681-4990-9a82-d3dcd991dbc2",
        "colab": {
          "base_uri": "https://localhost:8080/"
        }
      },
      "source": [
        "#please enter your code below this line.\n",
        "import numpy as np\n",
        "mat = np.random.randint(0,8,(3,3))\n",
        "print(\"\\n The Matrix is:\\n\",mat)\n",
        "sum = np.sum(mat)\n",
        "print(\"\\n Sum is :\\n\",sum)"
      ],
      "execution_count": 2,
      "outputs": [
        {
          "output_type": "stream",
          "text": [
            "\n",
            " The Matrix is:\n",
            " [[3 6 3]\n",
            " [2 2 1]\n",
            " [6 5 1]]\n",
            "\n",
            " Sum is :\n",
            " 29\n"
          ],
          "name": "stdout"
        }
      ]
    },
    {
      "cell_type": "markdown",
      "metadata": {
        "id": "k3Y7nQF7r3IW"
      },
      "source": [
        "2. Create a 3x3 array values ranging from 0-8.Find the row sum and column sum of this array."
      ]
    },
    {
      "cell_type": "code",
      "metadata": {
        "id": "BzvIlWfvsICv",
        "outputId": "35ebbee9-4739-44aa-a11d-5d17629c43d4",
        "colab": {
          "base_uri": "https://localhost:8080/"
        }
      },
      "source": [
        "#please enter your code below this line.\n",
        "import numpy as np\n",
        "mat = np.random.randint(0,8,(3,3))\n",
        "print(\"\\n The Matrix is:\\n\",mat) \n",
        "col = np.sum(mat,axis =0)\n",
        "print(\"\\n Sum of Columns:\\n\",col) \n",
        "row = np.sum(mat,axis =1)\n",
        "print(\"\\n Sum of Columns:\\n\",row)"
      ],
      "execution_count": 1,
      "outputs": [
        {
          "output_type": "stream",
          "text": [
            "\n",
            " The Matrix is:\n",
            " [[7 5 5]\n",
            " [0 0 5]\n",
            " [5 3 2]]\n",
            "\n",
            " Sum of Columns:\n",
            " [12  8 12]\n",
            "\n",
            " Sum of Columns:\n",
            " [17  5 10]\n"
          ],
          "name": "stdout"
        }
      ]
    },
    {
      "cell_type": "markdown",
      "metadata": {
        "id": "KOPMsbnrsgue"
      },
      "source": [
        "3. Create a 4x4 array values ranging from 0-15. Now,\n",
        "\n",
        "    a) Find the mininmum value in the array.\n",
        "    \n",
        "    b) Find the maximum value in the array.\n",
        "\n",
        "    c) Find the mean of the values in the array."
      ]
    },
    {
      "cell_type": "code",
      "metadata": {
        "id": "1UzITxp3WDaW",
        "outputId": "6500807f-7c6d-43ae-fedb-7d51352ad613",
        "colab": {
          "base_uri": "https://localhost:8080/"
        }
      },
      "source": [
        "#please enter your code belowthis line.\n",
        "import numpy as np\n",
        "mat = np.random.randint(0,15,(4,4))\n",
        "print(\"\\n The Matrix is:\\n\",mat) \n",
        "min = np.min(mat)\n",
        "print(\"\\n Minimum Value is\\n\",min) \n",
        "max = np.max(mat)\n",
        "print(\"\\n Maximum Value is\\n\",max) \n",
        "mean = np.mean(mat)\n",
        "print(\"\\n Minimum Value is\\n\",mean)"
      ],
      "execution_count": 3,
      "outputs": [
        {
          "output_type": "stream",
          "text": [
            "\n",
            " The Matrix is:\n",
            " [[ 6  3  8  4]\n",
            " [ 6 11  4 10]\n",
            " [14  7 10  8]\n",
            " [ 9  4 10  8]]\n",
            "\n",
            " Minimum Value is\n",
            " 3\n",
            "\n",
            " Maximum Value is\n",
            " 14\n",
            "\n",
            " Minimum Value is\n",
            " 7.625\n"
          ],
          "name": "stdout"
        }
      ]
    },
    {
      "cell_type": "markdown",
      "metadata": {
        "id": "Pah9qGButoz2"
      },
      "source": [
        "4. Create an 10x10 array values ranging from 0-99.And ,\n",
        "\n",
        "    a) Print the 7th row.\n",
        "    \n",
        "    b) Print the rows from 4-8.\n",
        "\n",
        "    c) Print the value at the index 5,5.\n",
        "\n",
        "    d) Print the 5th colomn.\n",
        "\n",
        "    e) Print the columns from 2-5."
      ]
    },
    {
      "cell_type": "code",
      "metadata": {
        "id": "JFXPq0GkvhKi",
        "outputId": "2f6e1d22-33d6-444b-f4be-17f52c5b9bb3",
        "colab": {
          "base_uri": "https://localhost:8080/"
        }
      },
      "source": [
        "#please enter your code below this line.\n",
        "import numpy as np\n",
        "mat = np.random.randint(0,99,(10,10))\n",
        "print(\"\\n The Matrix is:\\n\",mat) \n",
        "print(\"\\nThe 7th row is :\\n\",mat[7,:]) \n",
        "print(\"\\nThe 4-8th row is :\\n\",mat[4:8,:]) \n",
        "print(\"\\nThe value at (5,5) is :\\n\",mat[5,5]) \n",
        "print(\"\\nThe 5th column) is :\\n\",mat[:,5])"
      ],
      "execution_count": 5,
      "outputs": [
        {
          "output_type": "stream",
          "text": [
            "\n",
            " The Matrix is:\n",
            " [[78 42 25 17  8  3 41 73 35 30]\n",
            " [19 13 44 89 67 22 61 16  4 69]\n",
            " [71 39 41  3 35 55  2 59 10 87]\n",
            " [22  9 44 64 59  3 44 76 81 53]\n",
            " [77 89 69  5 41 87 40 11 63 57]\n",
            " [ 9 50 95 49  6 50 77 79 41 15]\n",
            " [42  4 91 10 47  4 40 65 41 32]\n",
            " [93 72 50 29  5 96 78  6 77 94]\n",
            " [38 98 57 62 81 59 98 39 32 18]\n",
            " [75 85 14 51 40 27 91 40 20 93]]\n",
            "\n",
            "The 7th row is :\n",
            " [93 72 50 29  5 96 78  6 77 94]\n",
            "\n",
            "The 4-8th row is :\n",
            " [[77 89 69  5 41 87 40 11 63 57]\n",
            " [ 9 50 95 49  6 50 77 79 41 15]\n",
            " [42  4 91 10 47  4 40 65 41 32]\n",
            " [93 72 50 29  5 96 78  6 77 94]]\n",
            "\n",
            "The value at (5,5) is :\n",
            " 50\n",
            "\n",
            "The 5th column) is :\n",
            " [ 3 22 55  3 87 50  4 96 59 27]\n"
          ],
          "name": "stdout"
        }
      ]
    }
  ]
}