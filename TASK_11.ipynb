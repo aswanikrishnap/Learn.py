{
  "nbformat": 4,
  "nbformat_minor": 0,
  "metadata": {
    "colab": {
      "name": "TASK 11.ipynb",
      "provenance": [],
      "include_colab_link": true
    },
    "kernelspec": {
      "name": "python3",
      "display_name": "Python 3"
    },
    "language_info": {
      "name": "python"
    }
  },
  "cells": [
    {
      "cell_type": "markdown",
      "metadata": {
        "id": "view-in-github",
        "colab_type": "text"
      },
      "source": [
        "<a href=\"https://colab.research.google.com/github/aswanikrishnap/Learn.py/blob/main/TASK_11.ipynb\" target=\"_parent\"><img src=\"https://colab.research.google.com/assets/colab-badge.svg\" alt=\"Open In Colab\"/></a>"
      ]
    },
    {
      "cell_type": "markdown",
      "metadata": {
        "id": "Ud2gZIbu6E59"
      },
      "source": [
        "N.B: Please find the answers by applying the functions on the matrices"
      ]
    },
    {
      "cell_type": "markdown",
      "metadata": {
        "id": "_9JX1Vdn4sTN"
      },
      "source": [
        "1. Create 2 3×3 matrix with 0-8 and 10-19 as elements in each and perform the vectorize multiplication operations on the matrices.(Outer product, Dot product, Element wise product)."
      ]
    },
    {
      "cell_type": "code",
      "metadata": {
        "id": "aBzAn6Z75VQ6",
        "outputId": "2d9815ba-0911-4a6b-aeb9-79f964e830c2",
        "colab": {
          "base_uri": "https://localhost:8080/"
        }
      },
      "source": [
        "#please type your answer below this line.\n",
        "import numpy as np\n",
        "mat1 = np.random.randint(0,8,(3,3))\n",
        "mat2 = np.random.randint(10,19,(3,3))\n",
        "print(\"Matrix A\\n\" ,mat1)\n",
        "print(\"\\nMatrix B\\n\" ,mat2) \n",
        "out = np.multiply.outer(mat1,mat2)\n",
        "print(\"Outer Products\\n\",out)\n",
        "dot = np.dot(mat1,mat2)\n",
        "print(\"Dot Products\\n\",dot) \n",
        "Ele = np.multiply(mat1,mat2)\n",
        "print(\"Element Wise\\n\",Ele)"
      ],
      "execution_count": 3,
      "outputs": [
        {
          "output_type": "stream",
          "text": [
            "Matrix A\n",
            " [[4 7 3]\n",
            " [6 7 6]\n",
            " [0 4 1]]\n",
            "\n",
            "Matrix B\n",
            " [[17 18 12]\n",
            " [17 11 16]\n",
            " [14 14 12]]\n",
            "Outer Products\n",
            " [[[[ 68  72  48]\n",
            "   [ 68  44  64]\n",
            "   [ 56  56  48]]\n",
            "\n",
            "  [[119 126  84]\n",
            "   [119  77 112]\n",
            "   [ 98  98  84]]\n",
            "\n",
            "  [[ 51  54  36]\n",
            "   [ 51  33  48]\n",
            "   [ 42  42  36]]]\n",
            "\n",
            "\n",
            " [[[102 108  72]\n",
            "   [102  66  96]\n",
            "   [ 84  84  72]]\n",
            "\n",
            "  [[119 126  84]\n",
            "   [119  77 112]\n",
            "   [ 98  98  84]]\n",
            "\n",
            "  [[102 108  72]\n",
            "   [102  66  96]\n",
            "   [ 84  84  72]]]\n",
            "\n",
            "\n",
            " [[[  0   0   0]\n",
            "   [  0   0   0]\n",
            "   [  0   0   0]]\n",
            "\n",
            "  [[ 68  72  48]\n",
            "   [ 68  44  64]\n",
            "   [ 56  56  48]]\n",
            "\n",
            "  [[ 17  18  12]\n",
            "   [ 17  11  16]\n",
            "   [ 14  14  12]]]]\n",
            "Dot Products\n",
            " [[229 191 196]\n",
            " [305 269 256]\n",
            " [ 82  58  76]]\n",
            "Element Wise\n",
            " [[ 68 126  36]\n",
            " [102  77  96]\n",
            " [  0  56  12]]\n"
          ],
          "name": "stdout"
        }
      ]
    },
    {
      "cell_type": "markdown",
      "metadata": {
        "id": "gJGtIjx25k92"
      },
      "source": [
        "2. Create a 4×4 matrix with 0-16  as elements in it. Add a scalar 4 to the matrix and also multiply it with [1,2,3,4] 1-D matrix by broadcasting. ( Please note to do both the addition and multiplication by broadcasting.)"
      ]
    },
    {
      "cell_type": "code",
      "metadata": {
        "id": "H7cznh8M56r-",
        "outputId": "06f2de48-ece3-4ff9-f9ac-41e101369a3f",
        "colab": {
          "base_uri": "https://localhost:8080/"
        }
      },
      "source": [
        "#please type your answer below this line.\n",
        "import numpy as np\n",
        "mat = np.random.randint(0,16,(4,4))\n",
        "print(\"Matrix is \\n\", mat) \n",
        "#adding 4(scalar) to the matrix\n",
        "scal = 2\n",
        "addScal = mat + scal\n",
        "print(\"\\n Scalar Matrix\\n\",addScal) \n",
        "#matrix broadcasting\n",
        "nums = np.array([1,2,3,4])\n",
        "mult = mat * nums\n",
        "print(\"\\nThe Multiplication by broadcasting\\n\",mult)"
      ],
      "execution_count": 5,
      "outputs": [
        {
          "output_type": "stream",
          "text": [
            "Matrix is \n",
            " [[12  2  7 11]\n",
            " [ 1 11  7 15]\n",
            " [ 5 12 13  0]\n",
            " [13 10 13  5]]\n",
            "\n",
            " Scalar Matrix\n",
            " [[14  4  9 13]\n",
            " [ 3 13  9 17]\n",
            " [ 7 14 15  2]\n",
            " [15 12 15  7]]\n",
            "\n",
            "The Multiplication by broadcasting\n",
            " [[12  4 21 44]\n",
            " [ 1 22 21 60]\n",
            " [ 5 24 39  0]\n",
            " [13 20 39 20]]\n"
          ],
          "name": "stdout"
        }
      ]
    }
  ]
}