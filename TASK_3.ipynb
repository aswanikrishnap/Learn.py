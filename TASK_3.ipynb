{
  "nbformat": 4,
  "nbformat_minor": 0,
  "metadata": {
    "colab": {
      "name": "TASK 3.ipynb",
      "provenance": [],
      "include_colab_link": true
    },
    "kernelspec": {
      "name": "python3",
      "display_name": "Python 3"
    },
    "language_info": {
      "name": "python"
    }
  },
  "cells": [
    {
      "cell_type": "markdown",
      "metadata": {
        "id": "view-in-github",
        "colab_type": "text"
      },
      "source": [
        "<a href=\"https://colab.research.google.com/github/aswanikrishnap/Learn.py/blob/main/TASK_3.ipynb\" target=\"_parent\"><img src=\"https://colab.research.google.com/assets/colab-badge.svg\" alt=\"Open In Colab\"/></a>"
      ]
    },
    {
      "cell_type": "markdown",
      "metadata": {
        "id": "z20IIB0eUQMN"
      },
      "source": [
        "1 - Write a program which takes a number as input from the user and check whether the number is odd or even.If odd print the number is odd if not print it is even."
      ]
    },
    {
      "cell_type": "code",
      "metadata": {
        "id": "dVgGJ-wTVRit",
        "outputId": "7cb5c0c3-548e-4889-a4f8-374c40146b73",
        "colab": {
          "base_uri": "https://localhost:8080/"
        }
      },
      "source": [
        "#please enter your answer below this line\n",
        " \n",
        "a=int(input(\"enter a number:\"))\n",
        "r=a%2\n",
        "if(r==0):\n",
        "    print(\"it is a even number\")\n",
        "else:\n",
        "    print(\"it is a odd number\")"
      ],
      "execution_count": 17,
      "outputs": [
        {
          "output_type": "stream",
          "text": [
            "enter a number:3\n",
            "it is a odd number\n"
          ],
          "name": "stdout"
        }
      ]
    },
    {
      "cell_type": "markdown",
      "metadata": {
        "id": "7778XD8PVblj"
      },
      "source": [
        "2 -Write a program to find the largest among three numbers and print the largest number."
      ]
    },
    {
      "cell_type": "code",
      "metadata": {
        "id": "m0tUOkOFWR-d",
        "outputId": "6e1217e5-4145-49d1-c14e-c1fc6c2dcee6",
        "colab": {
          "base_uri": "https://localhost:8080/"
        }
      },
      "source": [
        "#please enter your answer below this line\n",
        "a=float(input(\"enter the first number=\"))\n",
        "b=float(input(\"enter the second number=\"))\n",
        "c=float(input(\"enter the third number=\"))\n",
        "if (a>b) and (a>c):\n",
        "    largest=a\n",
        "elif (b>a) and (b>c):\n",
        "    largest=b\n",
        "else:\n",
        "    largest=c\n",
        "print(\"the largest number is\",largest)"
      ],
      "execution_count": 12,
      "outputs": [
        {
          "output_type": "stream",
          "text": [
            "enter the first number=4\n",
            "enter the second number=5\n",
            "enter the third number=7\n",
            "the largest number is 7.0\n"
          ],
          "name": "stdout"
        }
      ]
    },
    {
      "cell_type": "markdown",
      "metadata": {
        "id": "Jg2Ns4OQWaJy"
      },
      "source": [
        "3 -Write a function to prompt for a score between 0.0 and 1.0.\n",
        "\n",
        "    If the score is out of range, print an error.\n",
        "    If the score is between 0.0 and 1.0, print a grade using the following table:\n",
        "    Score Grade\n",
        "             Score\tGrade\n",
        "            >= 0.9\tA\n",
        "            >= 0.8\tB\n",
        "            >= 0.7\tC\n",
        "            >= 0.6\tD\n",
        "             < 0.6\tF\n",
        "If the user enters a value out of range, print a suitable error message and exit. For the test, enter a score of 0.85."
      ]
    },
    {
      "cell_type": "code",
      "metadata": {
        "id": "6DLbGe6XXZPx",
        "outputId": "e78ae2d3-ec65-48ba-ca2b-6b6e66b16f12",
        "colab": {
          "base_uri": "https://localhost:8080/"
        }
      },
      "source": [
        "score=input(\"enter a score:\")\n",
        "s=float(score)\n",
        "e=\"error\"\n",
        "if s>=0.9 and s<1.0:\n",
        "   e=\"A\"\n",
        "elif s>=0.8 and s<0.9:\n",
        "   e=\"B\"\n",
        "elif s>=0.7 and s<0.8:\n",
        "   e=\"C\"\n",
        "elif s>=0.6 and s<0.7:\n",
        "   e=\"D\"\n",
        "elif s<0.6 and s<0.0:\n",
        "   e=\"F\"\n",
        "else:\n",
        "   e=\"out of range\"\n",
        "print(e)"
      ],
      "execution_count": 29,
      "outputs": [
        {
          "output_type": "stream",
          "text": [
            "enter a score:0.85\n",
            "B\n"
          ],
          "name": "stdout"
        }
      ]
    },
    {
      "cell_type": "markdown",
      "metadata": {
        "id": "-o0scDq7WkVT"
      },
      "source": [
        ""
      ]
    }
  ]
}